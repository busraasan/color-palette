{
 "cells": [
  {
   "cell_type": "code",
   "execution_count": 39,
   "metadata": {},
   "outputs": [
    {
     "name": "stdout",
     "output_type": "stream",
     "text": [
      "[2023/06/27 11:41:04] ppocr DEBUG: Namespace(alpha=1.0, benchmark=False, beta=1.0, cls_batch_num=6, cls_image_shape='3, 48, 192', cls_model_dir='/Users/busraasan/.paddleocr/whl/cls/ch_ppocr_mobile_v2.0_cls_infer', cls_thresh=0.9, cpu_threads=10, crop_res_save_dir='./output', det=True, det_algorithm='DB', det_box_type='quad', det_db_box_thresh=0.6, det_db_score_mode='fast', det_db_thresh=0.3, det_db_unclip_ratio=1.5, det_east_cover_thresh=0.1, det_east_nms_thresh=0.2, det_east_score_thresh=0.8, det_limit_side_len=960, det_limit_type='max', det_model_dir='/Users/busraasan/.paddleocr/whl/det/en/en_PP-OCRv3_det_infer', det_pse_box_thresh=0.85, det_pse_min_area=16, det_pse_scale=1, det_pse_thresh=0, det_sast_nms_thresh=0.2, det_sast_score_thresh=0.5, draw_img_save_dir='./inference_results', drop_score=0.5, e2e_algorithm='PGNet', e2e_char_dict_path='./ppocr/utils/ic15_dict.txt', e2e_limit_side_len=768, e2e_limit_type='max', e2e_model_dir=None, e2e_pgnet_mode='fast', e2e_pgnet_score_thresh=0.5, e2e_pgnet_valid_set='totaltext', enable_mkldnn=False, fourier_degree=5, gpu_mem=500, help='==SUPPRESS==', image_dir=None, image_orientation=False, ir_optim=True, kie_algorithm='LayoutXLM', label_list=['0', '180'], lang='en', layout=True, layout_dict_path=None, layout_model_dir=None, layout_nms_threshold=0.5, layout_score_threshold=0.5, max_batch_size=10, max_text_length=25, merge_no_span_structure=True, min_subgraph_size=15, mode='structure', ocr=True, ocr_order_method=None, ocr_version='PP-OCRv3', output='./output', page_num=0, precision='fp32', process_id=0, re_model_dir=None, rec=True, rec_algorithm='SVTR_LCNet', rec_batch_num=6, rec_char_dict_path='/Users/busraasan/miniconda3/envs/causalml-py38/lib/python3.8/site-packages/paddleocr/ppocr/utils/en_dict.txt', rec_image_inverse=True, rec_image_shape='3, 48, 320', rec_model_dir='/Users/busraasan/.paddleocr/whl/rec/en/en_PP-OCRv3_rec_infer', recovery=False, save_crop_res=False, save_log_path='./log_output/', scales=[8, 16, 32], ser_dict_path='../train_data/XFUND/class_list_xfun.txt', ser_model_dir=None, show_log=True, sr_batch_num=1, sr_image_shape='3, 32, 128', sr_model_dir=None, structure_version='PP-StructureV2', table=True, table_algorithm='TableAttn', table_char_dict_path=None, table_max_len=488, table_model_dir=None, total_process_num=1, type='ocr', use_angle_cls=True, use_dilation=False, use_gpu=False, use_mp=False, use_npu=False, use_onnx=False, use_pdf2docx_api=False, use_pdserving=False, use_space_char=True, use_tensorrt=False, use_visual_backbone=True, use_xpu=False, vis_font_path='./doc/fonts/simfang.ttf', warmup=False)\n",
      "[2023/06/27 11:41:06] ppocr DEBUG: dt_boxes num : 7, elapse : 0.877234935760498\n",
      "[2023/06/27 11:41:06] ppocr DEBUG: cls num  : 7, elapse : 0.07696270942687988\n",
      "[2023/06/27 11:41:08] ppocr DEBUG: rec_res num  : 7, elapse : 1.282195806503296\n",
      "[[[989.0, 1332.0], [1787.0, 1332.0], [1787.0, 1410.0], [989.0, 1410.0]], ('COMNG SOON', 0.8799844980239868)]\n",
      "[[[1075.0, 1428.0], [1704.0, 1420.0], [1705.0, 1509.0], [1076.0, 1517.0]], ('NEW MENU', 0.9888643026351929)]\n",
      "[[[974.0, 1583.0], [1813.0, 1583.0], [1813.0, 1620.0], [974.0, 1620.0]], ('Lorem ipsum dolor sit amet, consectetur adipiscing elit', 0.9855981469154358)]\n",
      "[[[959.0, 1612.0], [1824.0, 1616.0], [1824.0, 1664.0], [959.0, 1660.0]], ('Donec fringilla neque euismod volutpat cursus. Vestibu-', 0.9803420901298523)]\n",
      "[[[1236.0, 1657.0], [1544.0, 1661.0], [1543.0, 1701.0], [1236.0, 1697.0]], ('lum ac pretium orci.', 0.9708095788955688)]\n",
      "[[[1236.0, 1727.0], [1536.0, 1727.0], [1536.0, 1775.0], [1236.0, 1775.0]], ('www.macarivon.id', 0.9996351003646851)]\n",
      "[[[1256.0, 2202.0], [1533.0, 2211.0], [1531.0, 2262.0], [1254.0, 2254.0]], ('Read More', 0.9991409778594971)]\n"
     ]
    },
    {
     "ename": "TypeError",
     "evalue": "slice indices must be integers or None or have an __index__ method",
     "output_type": "error",
     "traceback": [
      "\u001b[0;31m---------------------------------------------------------------------------\u001b[0m",
      "\u001b[0;31mTypeError\u001b[0m                                 Traceback (most recent call last)",
      "Cell \u001b[0;32mIn [39], line 28\u001b[0m\n\u001b[1;32m     26\u001b[0m     z, t \u001b[39m=\u001b[39m bbox[\u001b[39m2\u001b[39m][\u001b[39m0\u001b[39m], bbox[\u001b[39m2\u001b[39m][\u001b[39m1\u001b[39m]\n\u001b[1;32m     27\u001b[0m     cv2\u001b[39m.\u001b[39mrectangle(image, (\u001b[39mint\u001b[39m(x), \u001b[39mint\u001b[39m(y)), (\u001b[39mint\u001b[39m(z), \u001b[39mint\u001b[39m(t)), (\u001b[39m0\u001b[39m, \u001b[39m255\u001b[39m, \u001b[39m0\u001b[39m), \u001b[39m2\u001b[39m)\n\u001b[0;32m---> 28\u001b[0m     cropped_image \u001b[39m=\u001b[39m image[y:t, x:z]\n\u001b[1;32m     30\u001b[0m cv2\u001b[39m.\u001b[39mimwrite(\u001b[39m'\u001b[39m\u001b[39mresult.jpg\u001b[39m\u001b[39m'\u001b[39m, image)\n\u001b[1;32m     32\u001b[0m pixels \u001b[39m=\u001b[39m np\u001b[39m.\u001b[39mfloat32(image\u001b[39m.\u001b[39mreshape(\u001b[39m-\u001b[39m\u001b[39m1\u001b[39m, \u001b[39m3\u001b[39m))\n",
      "\u001b[0;31mTypeError\u001b[0m: slice indices must be integers or None or have an __index__ method"
     ]
    }
   ],
   "source": [
    "from paddleocr import PaddleOCR,draw_ocr\n",
    "import cv2\n",
    "from PIL import Image, ImageFont\n",
    "import numpy as np\n",
    "# Paddleocr supports Chinese, English, French, German, Korean and Japanese.\n",
    "# You can set the parameter `lang` as `ch`, `en`, `fr`, `german`, `korean`, `japan`\n",
    "# to switch the language model in order.\n",
    "ocr = PaddleOCR(use_angle_cls=True, lang='en') # need to run only once to download and load model into memory\n",
    "img_path = '../destijl_dataset/04_text/0007.png'\n",
    "result = ocr.ocr(img_path, cls=True)\n",
    "for idx in range(len(result)):\n",
    "    res = result[idx]\n",
    "    for line in res:\n",
    "        print(line)\n",
    "\n",
    "\n",
    "result = result[0]\n",
    "image = Image.open(img_path).convert('RGB')\n",
    "boxes = [line[0] for line in result]\n",
    "txts = [line[1][0] for line in result]\n",
    "scores = [line[1][1] for line in result]\n",
    "image = cv2.imread(img_path)\n",
    "\n",
    "for bbox in boxes:\n",
    "    x, y = bbox[0][0], bbox[0][1]\n",
    "    z, t = bbox[2][0], bbox[2][1]\n",
    "    cv2.rectangle(image, (int(x), int(y)), (int(z), int(t)), (0, 255, 0), 2)\n",
    "    cropped_image = image[y:t, x:z]\n",
    "    \n",
    "cv2.imwrite('result.jpg', image)\n",
    "\n",
    "pixels = np.float32(image.reshape(-1, 3))\n",
    "\n",
    "n_colors = 4\n",
    "criteria = (cv2.TERM_CRITERIA_EPS + cv2.TERM_CRITERIA_MAX_ITER, 200, .1)\n",
    "flags = cv2.KMEANS_RANDOM_CENTERS\n",
    "\n",
    "_, labels, palette = cv2.kmeans(pixels, n_colors, None, criteria, 10, flags)\n",
    "palette = np.asarray(palette, dtype=np.int64)\n",
    "palette_w_white = []\n",
    "\n",
    "for color in palette:\n",
    "    x, y, z = color\n",
    "    if not (252 < x < 256 and 252 < y < 256 and 252 < z < 256):\n",
    "        palette_w_white.append(color)\n",
    "\n",
    "_, counts = np.unique(labels, return_counts=True)\n",
    "dominant = palette_w_white[np.argmax(counts)]\n"
   ]
  },
  {
   "cell_type": "code",
   "execution_count": 48,
   "metadata": {},
   "outputs": [
    {
     "name": "stdout",
     "output_type": "stream",
     "text": [
      "[2023/06/27 12:04:52] ppocr DEBUG: Namespace(alpha=1.0, benchmark=False, beta=1.0, cls_batch_num=6, cls_image_shape='3, 48, 192', cls_model_dir='/Users/busraasan/.paddleocr/whl/cls/ch_ppocr_mobile_v2.0_cls_infer', cls_thresh=0.9, cpu_threads=10, crop_res_save_dir='./output', det=True, det_algorithm='DB', det_box_type='quad', det_db_box_thresh=0.6, det_db_score_mode='fast', det_db_thresh=0.3, det_db_unclip_ratio=1.5, det_east_cover_thresh=0.1, det_east_nms_thresh=0.2, det_east_score_thresh=0.8, det_limit_side_len=960, det_limit_type='max', det_model_dir='/Users/busraasan/.paddleocr/whl/det/en/en_PP-OCRv3_det_infer', det_pse_box_thresh=0.85, det_pse_min_area=16, det_pse_scale=1, det_pse_thresh=0, det_sast_nms_thresh=0.2, det_sast_score_thresh=0.5, draw_img_save_dir='./inference_results', drop_score=0.5, e2e_algorithm='PGNet', e2e_char_dict_path='./ppocr/utils/ic15_dict.txt', e2e_limit_side_len=768, e2e_limit_type='max', e2e_model_dir=None, e2e_pgnet_mode='fast', e2e_pgnet_score_thresh=0.5, e2e_pgnet_valid_set='totaltext', enable_mkldnn=False, fourier_degree=5, gpu_mem=500, help='==SUPPRESS==', image_dir=None, image_orientation=False, ir_optim=True, kie_algorithm='LayoutXLM', label_list=['0', '180'], lang='en', layout=True, layout_dict_path=None, layout_model_dir=None, layout_nms_threshold=0.5, layout_score_threshold=0.5, max_batch_size=10, max_text_length=25, merge_no_span_structure=True, min_subgraph_size=15, mode='structure', ocr=True, ocr_order_method=None, ocr_version='PP-OCRv3', output='./output', page_num=0, precision='fp32', process_id=0, re_model_dir=None, rec=True, rec_algorithm='SVTR_LCNet', rec_batch_num=6, rec_char_dict_path='/Users/busraasan/miniconda3/envs/causalml-py38/lib/python3.8/site-packages/paddleocr/ppocr/utils/en_dict.txt', rec_image_inverse=True, rec_image_shape='3, 48, 320', rec_model_dir='/Users/busraasan/.paddleocr/whl/rec/en/en_PP-OCRv3_rec_infer', recovery=False, save_crop_res=False, save_log_path='./log_output/', scales=[8, 16, 32], ser_dict_path='../train_data/XFUND/class_list_xfun.txt', ser_model_dir=None, show_log=True, sr_batch_num=1, sr_image_shape='3, 32, 128', sr_model_dir=None, structure_version='PP-StructureV2', table=True, table_algorithm='TableAttn', table_char_dict_path=None, table_max_len=488, table_model_dir=None, total_process_num=1, type='ocr', use_angle_cls=True, use_dilation=False, use_gpu=False, use_mp=False, use_npu=False, use_onnx=False, use_pdf2docx_api=False, use_pdserving=False, use_space_char=True, use_tensorrt=False, use_visual_backbone=True, use_xpu=False, vis_font_path='./doc/fonts/simfang.ttf', warmup=False)\n",
      "[2023/06/27 12:04:54] ppocr DEBUG: dt_boxes num : 8, elapse : 0.7847871780395508\n",
      "[2023/06/27 12:04:54] ppocr DEBUG: cls num  : 8, elapse : 0.09149909019470215\n",
      "[2023/06/27 12:04:55] ppocr DEBUG: rec_res num  : 8, elapse : 0.5727128982543945\n",
      "[[[2983.0, 600.0], [3122.0, 612.0], [3118.0, 661.0], [2979.0, 649.0]], ('Home', 0.9999140501022339)]\n",
      "[[[3253.0, 606.0], [3402.0, 606.0], [3402.0, 655.0], [3253.0, 655.0]], ('About', 0.9999675750732422)]\n",
      "[[[3502.0, 606.0], [3752.0, 606.0], [3752.0, 655.0], [3502.0, 655.0]], ('Contact Us', 0.9999416470527649)]\n",
      "[[[804.0, 748.0], [1336.0, 748.0], [1336.0, 994.0], [804.0, 994.0]], ('OH!', 0.9986839294433594)]\n",
      "[[[812.0, 1065.0], [1802.0, 1055.0], [1804.0, 1260.0], [815.0, 1270.0]], ('IAPPY', 0.9120752215385437)]\n",
      "[[[795.0, 1341.0], [1408.0, 1341.0], [1408.0, 1582.0], [795.0, 1582.0]], ('DAY', 0.9996578097343445)]\n",
      "[[[841.0, 1693.0], [1118.0, 1698.0], [1117.0, 1747.0], [840.0, 1742.0]], ('Read more', 0.9995777606964111)]\n",
      "[[[3230.0, 1951.0], [3743.0, 1956.0], [3743.0, 2023.0], [3230.0, 2018.0]], ('Enjoy every day', 0.9984352588653564)]\n",
      "Printing dominant color for bbox\n",
      "COUNT\n",
      "[10966 58254]\n",
      "PALETTE\n",
      "[array([ 68, 174, 232]), array([140, 108, 103])]\n",
      "DOMINANT\n",
      "[140 108 103]\n"
     ]
    }
   ],
   "source": [
    "from paddleocr import PaddleOCR,draw_ocr\n",
    "import cv2\n",
    "from PIL import Image, ImageFont\n",
    "import numpy as np\n",
    "# Paddleocr supports Chinese, English, French, German, Korean and Japanese.\n",
    "# You can set the parameter `lang` as `ch`, `en`, `fr`, `german`, `korean`, `japan`\n",
    "# to switch the language model in order.\n",
    "ocr = PaddleOCR(use_angle_cls=True, lang='en') # need to run only once to download and load model into memory\n",
    "img_path = '../destijl_dataset/04_text/0039.png'\n",
    "result = ocr.ocr(img_path, cls=True)\n",
    "for idx in range(len(result)):\n",
    "    res = result[idx]\n",
    "    for line in res:\n",
    "        print(line)\n",
    "\n",
    "result = result[0]\n",
    "image = Image.open(img_path).convert('RGB')\n",
    "boxes = [line[0] for line in result]\n",
    "txts = [line[1][0] for line in result]\n",
    "scores = [line[1][1] for line in result]\n",
    "image = cv2.imread(img_path)\n",
    "\n",
    "n_colors = 3\n",
    "criteria = (cv2.TERM_CRITERIA_EPS + cv2.TERM_CRITERIA_MAX_ITER, 200, .1)\n",
    "flags = cv2.KMEANS_RANDOM_CENTERS\n",
    "\n",
    "county = 0\n",
    "for bbox in boxes:\n",
    "    x, y = int(bbox[0][0]), int(bbox[0][1])\n",
    "    z, t = int(bbox[2][0]), int(bbox[2][1])\n",
    "    #cv2.rectangle(image, (x, y), (z, t), (0, 255, 0), 2)\n",
    "    cropped_image = image[y:t, x:z]\n",
    "    pixels = np.float32(cropped_image.reshape(-1, 3))\n",
    "\n",
    "    _, labels, palette = cv2.kmeans(pixels, n_colors, None, criteria, 10, flags)\n",
    "    palette = np.asarray(palette, dtype=np.int64)\n",
    "    palette_w_white = []\n",
    "\n",
    "    for i, color in enumerate(palette):\n",
    "        x, y, z = color\n",
    "        if not (252 < x < 256 and 252 < y < 256 and 252 < z < 256):\n",
    "            palette_w_white.append(color)\n",
    "        else:\n",
    "            labels = np.delete(labels, np.where(labels == i))\n",
    "\n",
    "    _, counts = np.unique(labels, return_counts=True)\n",
    "    dominant = palette_w_white[np.argmax(counts)]\n",
    "    \n",
    "    if county == 3:\n",
    "        print(\"Printing dominant color for bbox\")\n",
    "        print(\"COUNT\")\n",
    "        print(counts)\n",
    "        print(\"PALETTE\")\n",
    "        print(palette_w_white)\n",
    "        print(\"DOMINANT\")\n",
    "        print(dominant)\n",
    "    county += 1"
   ]
  },
  {
   "cell_type": "code",
   "execution_count": 41,
   "metadata": {},
   "outputs": [
    {
     "data": {
      "text/plain": [
       "array([5483,  995])"
      ]
     },
     "execution_count": 41,
     "metadata": {},
     "output_type": "execute_result"
    }
   ],
   "source": [
    "counts"
   ]
  }
 ],
 "metadata": {
  "kernelspec": {
   "display_name": "Python 3.8.15 ('causalml-py38')",
   "language": "python",
   "name": "python3"
  },
  "language_info": {
   "codemirror_mode": {
    "name": "ipython",
    "version": 3
   },
   "file_extension": ".py",
   "mimetype": "text/x-python",
   "name": "python",
   "nbconvert_exporter": "python",
   "pygments_lexer": "ipython3",
   "version": "3.8.15"
  },
  "orig_nbformat": 4,
  "vscode": {
   "interpreter": {
    "hash": "5fe1114d0d27f71ad4119f0373fc1aaac921ee939a643d798102047e2deae920"
   }
  }
 },
 "nbformat": 4,
 "nbformat_minor": 2
}
