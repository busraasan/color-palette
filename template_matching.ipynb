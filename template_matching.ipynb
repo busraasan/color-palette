{
 "cells": [
  {
   "cell_type": "markdown",
   "metadata": {},
   "source": [
    "## Template Matching"
   ]
  },
  {
   "cell_type": "code",
   "execution_count": 1,
   "metadata": {},
   "outputs": [],
   "source": [
    "import cv2\n",
    "\n",
    "method = cv2.TM_SQDIFF_NORMED\n",
    "\n",
    "# Read the images from the file\n",
    "\n",
    "small_image = cv2.imread('destijl_dataset/02_image/0006.png')\n",
    "large_image = cv2.imread('destijl_dataset/00_preview_png/0006.png')\n",
    "\n",
    "result = cv2.matchTemplate(small_image, large_image, method)\n",
    "\n",
    "# We want the minimum squared difference\n",
    "mn,_,mnLoc,_ = cv2.minMaxLoc(result)\n",
    "\n",
    "# Draw the rectangle:\n",
    "# Extract the coordinates of our best match\n",
    "MPx,MPy = mnLoc\n",
    "\n",
    "# Step 2: Get the size of the template. This is the same size as the match.\n",
    "trows,tcols = small_image.shape[:2]\n",
    "\n",
    "# Step 3: Draw the rectangle on large_image\n",
    "cv2.rectangle(large_image, (MPx,MPy),(MPx+tcols,MPy+trows),(0,0,255),2)\n",
    "\n",
    "# Display the original image with the rectangle around the match.\n",
    "cv2.imshow('output',large_image)\n",
    "\n",
    "# The image is only displayed if we call this\n",
    "cv2.waitKey(0)"
   ]
  },
  {
   "cell_type": "markdown",
   "metadata": {},
   "source": [
    "## Contour"
   ]
  },
  {
   "cell_type": "code",
   "execution_count": 10,
   "metadata": {},
   "outputs": [
    {
     "name": "stdout",
     "output_type": "stream",
     "text": [
      "3215.0\n",
      "8003.5\n",
      "5967.0\n",
      "12517.5\n",
      "11133.5\n",
      "3327.0\n",
      "6261.0\n",
      "3233.5\n",
      "24508.0\n",
      "8146.0\n",
      "6438.5\n",
      "6467.0\n",
      "6421.0\n",
      "1389.5\n",
      "3477.0\n",
      "2578.5\n",
      "5462.5\n",
      "4832.5\n",
      "1414.0\n",
      "2706.5\n",
      "1379.5\n",
      "size elements total :  128878.5\n",
      "size of pic :  12169548\n",
      "rate of fullness : %  1.0590245422426536\n"
     ]
    }
   ],
   "source": [
    "import numpy as np\n",
    "import cv2\n",
    "\n",
    "image = cv2.imread(\"destijl_dataset/03_decoration/0346.png\")\n",
    "dimensions = image.shape\n",
    "\n",
    "height= image.shape[0]\n",
    "width = image.shape[1]\n",
    "size = height*width\n",
    "\n",
    "gray = cv2.cvtColor(image, cv2.COLOR_BGR2GRAY)\n",
    "gray = cv2.GaussianBlur(gray, (7, 7), 0)\n",
    "\n",
    "\n",
    "_,thresh = cv2.threshold(gray,150,255,cv2.THRESH_BINARY_INV)\n",
    "\n",
    "cnts, hier = cv2.findContours(thresh.copy(), cv2.RETR_EXTERNAL,cv2.CHAIN_APPROX_SIMPLE)\n",
    "size_elements = 0\n",
    "for cnt in cnts:\n",
    "    cv2.drawContours(image,cnts, -1, (0, 255, 0), 3)\n",
    "    size_elements += cv2.contourArea(cnt)\n",
    "    print(cv2.contourArea(cnt))\n",
    "\n",
    "\n",
    "\n",
    "cv2.imshow(\"Image\", image)\n",
    "print(\"size elements total : \", size_elements)\n",
    "print(\"size of pic : \", size)\n",
    "print(\"rate of fullness : % \", (size_elements/size)*100)\n",
    "cv2.waitKey(0)"
   ]
  },
  {
   "cell_type": "markdown",
   "metadata": {},
   "source": [
    "## Get Colors from KMeans then mask each color"
   ]
  },
  {
   "cell_type": "code",
   "execution_count": 1,
   "metadata": {},
   "outputs": [
    {
     "data": {
      "text/plain": [
       "True"
      ]
     },
     "execution_count": 1,
     "metadata": {},
     "output_type": "execute_result"
    }
   ],
   "source": [
    "import numpy as np\n",
    "import pandas as pd\n",
    "from sklearn.cluster import MeanShift, estimate_bandwidth, KMeans\n",
    "from matplotlib import pyplot as plt\n",
    "import os\n",
    "import imageio.v3 as iio\n",
    "from PIL import Image\n",
    "from colormap import rgb2hex\n",
    "from matplotlib.colors import ListedColormap\n",
    "import colorsys\n",
    "import cv2\n",
    "from PIL import Image\n",
    "\n",
    "########################### PARAMETERS ###########################\n",
    "layers = [\n",
    "    '02_image',\n",
    "    '03_decoration',\n",
    "    '04_text'\n",
    "]\n",
    "selected_layer = 0\n",
    "\n",
    "image_path = \"destijl_dataset/03_decoration/0346.png\"\n",
    "# read image\n",
    "img = cv2.imread(image_path, cv2.IMREAD_GRAYSCALE)\n",
    "assert img is not None, \"file could not be read, check with os.path.exists()\"\n",
    "img = cv2.medianBlur(img,5)\n",
    "th3 = cv2.adaptiveThreshold(img,255,cv2.ADAPTIVE_THRESH_GAUSSIAN_C,\\\n",
    " cv2.THRESH_BINARY,11,2)\n",
    "th3 = cv2.dilate(th3, None, iterations = 1)\n",
    "\n",
    "# view result\n",
    "\n",
    "result = img.copy()\n",
    "contours = cv2.findContours(th3, cv2.RETR_EXTERNAL, cv2.CHAIN_APPROX_NONE)\n",
    "contours = contours[0] if len(contours) == 2 else contours[1]\n",
    "for c in contours:\n",
    "    x,y,w,h = cv2.boundingRect(c)\n",
    "    cv2.rectangle(result, (x, y), (x+w-1, y+h-1), (0, 0, 255), 1)\n",
    "\n",
    "# plt.imshow(result,'gray')\n",
    "# plt.imshow(th3,'gray')\n",
    "# view result\n",
    "# cv2.imshow(\"threshold\", th3)\n",
    "cv2.imwrite(\"white_green_threshold.jpg\", th3)\n",
    "cv2.imwrite(\"white_green_result.jpg\", result)\n",
    "# cv2.waitKey(0)\n",
    "# cv2.destroyAllWindows()\n"
   ]
  },
  {
   "cell_type": "markdown",
   "metadata": {},
   "source": [
    "## Canny Edge Detector for extracting design elements"
   ]
  },
  {
   "cell_type": "code",
   "execution_count": 63,
   "metadata": {},
   "outputs": [
    {
     "data": {
      "text/plain": [
       "True"
      ]
     },
     "execution_count": 63,
     "metadata": {},
     "output_type": "execute_result"
    }
   ],
   "source": [
    "image_path = \"destijl_dataset/03_decoration/0346.png\"\n",
    "# read image\n",
    "img = cv2.imread(image_path, cv2.IMREAD_GRAYSCALE)\n",
    "img_color = cv2.imread(image_path)\n",
    "img_color2 = img_color.copy()\n",
    "assert img is not None, \"file could not be read, check with os.path.exists()\"\n",
    "\n",
    "image_edges = cv2.Canny(img,100,200)\n",
    "cv2.imwrite(\"canny.jpg\", image_edges)\n",
    "contours, hierarchy = cv2.findContours(image_edges, \n",
    "    cv2.RETR_LIST, cv2.CHAIN_APPROX_NONE)\n",
    "    \n",
    "#cv2.dilate(img_color, cv2.getStructuringElement(cv2.MORPH_RECT, (1, 1), (1, 1)))\n",
    "cv2.drawContours(img_color, contours, -1, (0, 255, 0), 3)\n",
    "cv2.imwrite(\"canny_contour.jpg\", img_color)\n",
    "\n",
    "colors = []\n",
    "# For each list of contour points...\n",
    "for c in contours:\n",
    "    M = cv2.moments(c)\n",
    "    if M[\"m00\"] != 0:\n",
    "        cX = int(M[\"m10\"] / M[\"m00\"])\n",
    "        cY = int(M[\"m01\"] / M[\"m00\"])\n",
    "\n",
    "        colors.append(img_color2[cY, cX])\n",
    "\n",
    "for cnt in contours:\n",
    "    rect = cv2.minAreaRect(cnt)\n",
    "    box = cv2.boxPoints(rect)\n",
    "    box = np.int0(box)\n",
    "    cv2.drawContours(img_color2,[box],0,(0,0,255),2)\n",
    "cv2.imwrite(\"canny_contour.jpg\", img_color2)\n",
    "\n"
   ]
  },
  {
   "cell_type": "code",
   "execution_count": 34,
   "metadata": {},
   "outputs": [
    {
     "data": {
      "text/plain": [
       "43"
      ]
     },
     "execution_count": 34,
     "metadata": {},
     "output_type": "execute_result"
    }
   ],
   "source": [
    "len(colors)"
   ]
  },
  {
   "cell_type": "code",
   "execution_count": 48,
   "metadata": {},
   "outputs": [
    {
     "data": {
      "text/plain": [
       "True"
      ]
     },
     "execution_count": 48,
     "metadata": {},
     "output_type": "execute_result"
    }
   ],
   "source": [
    "rectangles = []\n",
    "for c in contours:\n",
    "    x,y,w,h = cv2.boundingRect(c)\n",
    "    if (x,y,w,h) not in rectangles:\n",
    "        rectangles.append((x,y,w,h))\n",
    "\n",
    "for rect in rectangles:\n",
    "    x, y, w, h = rect\n",
    "    cv2.rectangle(img_color2, (x, y), (x+w-1, y+h-1), (0, 0, 255), 2)\n",
    "\n",
    "#Reverting the original image back to BGR so we can draw in colors\n",
    "#parameter -1 specifies that we want to draw all the contours\n",
    "cv2.imwrite(\"canny_contour.jpg\", img_color2)"
   ]
  },
  {
   "cell_type": "code",
   "execution_count": 186,
   "metadata": {},
   "outputs": [
    {
     "name": "stdout",
     "output_type": "stream",
     "text": [
      "Num of colors:  6\n",
      "Num of selected colors:  5\n",
      "bounding boxess\n"
     ]
    }
   ],
   "source": [
    "import cv2\n",
    "import numpy as np\n",
    "from sklearn.cluster import KMeans\n",
    "from sklearn.metrics import silhouette_score\n",
    "from matplotlib.colors import hsv_to_rgb, rgb_to_hsv\n",
    "\n",
    "\n",
    "def determine_num_colors(image_path, min_colors, max_colors):\n",
    "    # Load the image\n",
    "    image = cv2.imread(image_path)\n",
    "    \n",
    "    # Convert the image to the RGB color space\n",
    "    image = cv2.cvtColor(image, cv2.COLOR_BGR2RGB)\n",
    "    \n",
    "    # Reshape the image to a 2D array of pixels\n",
    "    pixels = image.reshape(-1, 3)\n",
    "    \n",
    "    # Initialize variables for storing optimal number of colors and silhouette score\n",
    "    best_num_colors = 0\n",
    "    best_score = -1\n",
    "    \n",
    "    # Iterate through the range of possible number of colors\n",
    "    for num_colors in range(min_colors, max_colors + 1):\n",
    "        # Apply K-means clustering with the specified number of colors\n",
    "        kmeans = KMeans(n_clusters=num_colors)\n",
    "        kmeans.fit(pixels)\n",
    "        \n",
    "        # Get the labels for the pixels\n",
    "        labels = kmeans.labels_\n",
    "        \n",
    "        # Calculate the silhouette score\n",
    "        score = silhouette_score(pixels, labels)\n",
    "        \n",
    "        # Update the optimal number of colors if the current score is higher\n",
    "        if score > best_score:\n",
    "            best_score = score\n",
    "            best_num_colors = num_colors\n",
    "    \n",
    "    return best_num_colors\n",
    "\n",
    "def separate_colors(image_path):\n",
    "    # Determine the number of dominant colors\n",
    "    min_colors = 2\n",
    "    max_colors = 5\n",
    "    #num_colors = determine_num_colors(image_path, min_colors, max_colors)\n",
    "    num_colors = 6\n",
    "    \n",
    "    # Load the image\n",
    "    image = cv2.imread(image_path)\n",
    "    \n",
    "    # Convert the image to the RGB color space\n",
    "    image3 = image.copy()\n",
    "    image = cv2.cvtColor(image, cv2.COLOR_BGR2RGB)\n",
    "    image2 = image.copy()\n",
    "    \n",
    "    # Reshape the image to a 2D array of pixels\n",
    "    pixels = image.reshape(-1, 3)\n",
    "    \n",
    "    # Apply K-means clustering with the determined number of colors\n",
    "    kmeans = KMeans(n_clusters=num_colors)\n",
    "    kmeans.fit(pixels)\n",
    "    \n",
    "    # Get the RGB values of the dominant colors\n",
    "    colors = kmeans.cluster_centers_.astype(int)\n",
    "    print(\"Num of colors: \", len(colors))\n",
    "    \n",
    "    # Convert the colors to the HSV color space\n",
    "    hsv_colors = [] \n",
    "\n",
    "    for i, color in enumerate(colors):\n",
    "            x, y, z = color\n",
    "            if not (252 < x < 256 and 252 < y < 256 and 252 < z < 256):\n",
    "                x, y, z = rgb_to_hsv([x/255, y/255, z/255])\n",
    "                hsv_colors.append([x*255, y*255, z*255])\n",
    "    print(\"Num of selected colors: \", len(hsv_colors))\n",
    "    # Convert the image to the HSV color space\n",
    "    hsv_image = cv2.cvtColor(image2, cv2.COLOR_RGB2HSV)\n",
    "    \n",
    "    # Create masks for each dominant color\n",
    "    masks = []\n",
    "    hsv_colors = np.asarray(hsv_colors, dtype=np.int32)\n",
    "    \n",
    "    for i in range(len(hsv_colors)):\n",
    "        \n",
    "        h, s, v = hsv_colors[i, :]\n",
    "        lower_color = hsv_colors[i, :] - np.array([5, 50+s, 50+v])\n",
    "        upper_color = hsv_colors[i, :] + np.array([15, 255, 255])\n",
    "        mask = cv2.inRange(hsv_image, lower_color, upper_color)\n",
    "        masks.append(mask)\n",
    "    \n",
    "    # Find contours in each mask\n",
    "    contours = []\n",
    "    for mask in masks:\n",
    "        contours_color, _ = cv2.findContours(mask, cv2.RETR_EXTERNAL, cv2.CHAIN_APPROX_NONE)\n",
    "        contours.append(contours_color)\n",
    "    \n",
    "    # Draw bounding boxes around the shapes\n",
    "    print(\"bounding boxess\")\n",
    "    image_with_boxes = image.copy()\n",
    "    for i, contour_color in enumerate(contours):\n",
    "        for contour in contour_color:\n",
    "            print(\"is there any rects??\")\n",
    "            x, y, w, h = cv2.boundingRect(contour)\n",
    "            print(x, y, w, h)\n",
    "            cv2.rectangle(image_with_boxes, (x, y), (x+w, y+h), (0, 255, 0), 2)\n",
    "    \n",
    "    # Display the resulting image\n",
    "    cv2.imwrite('contour_thingy.jpg', image_with_boxes)\n",
    "\n",
    "# Example usage\n",
    "image_path = 'destijl_dataset/03_decoration/0663.png'  # Replace 'your_image.jpg' with the path to your image\n",
    "\n",
    "separate_colors(image_path)"
   ]
  }
 ],
 "metadata": {
  "kernelspec": {
   "display_name": "Python 3.8.15 ('causalml-py38')",
   "language": "python",
   "name": "python3"
  },
  "language_info": {
   "codemirror_mode": {
    "name": "ipython",
    "version": 3
   },
   "file_extension": ".py",
   "mimetype": "text/x-python",
   "name": "python",
   "nbconvert_exporter": "python",
   "pygments_lexer": "ipython3",
   "version": "3.8.15"
  },
  "orig_nbformat": 4,
  "vscode": {
   "interpreter": {
    "hash": "5fe1114d0d27f71ad4119f0373fc1aaac921ee939a643d798102047e2deae920"
   }
  }
 },
 "nbformat": 4,
 "nbformat_minor": 2
}
