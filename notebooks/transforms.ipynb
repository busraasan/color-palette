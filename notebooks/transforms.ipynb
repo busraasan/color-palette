{
 "cells": [
  {
   "cell_type": "code",
   "execution_count": 1,
   "metadata": {},
   "outputs": [],
   "source": [
    "from torchvision import transforms\n",
    "import cv2\n",
    "\n",
    "input_size = 256\n",
    "\n",
    "idx = 0000\n",
    "root_dataset = \"../destijl_dataset/\"\n",
    "design_path = root_dataset + '00_preview/'+str(idx)+\".png\",\n",
    "image_xml = root_dataset + \"xmls/\" + '02_image/'+str(idx)+\".xml\",\n",
    "text_xml = root_dataset + \"xmls/\" + '04_text/'+str(idx)+\".xml\",\n",
    "\n",
    "transform = transforms.Compose([\n",
    "    transforms.Resize((input_size, input_size)),\n",
    "    transforms.ToTensor(), \n",
    "    transforms.Normalize((0.5,), (0.5,))\n",
    "    ])"
   ]
  },
  {
   "cell_type": "code",
   "execution_count": null,
   "metadata": {},
   "outputs": [],
   "source": []
  }
 ],
 "metadata": {
  "kernelspec": {
   "display_name": "color",
   "language": "python",
   "name": "python3"
  },
  "language_info": {
   "codemirror_mode": {
    "name": "ipython",
    "version": 3
   },
   "file_extension": ".py",
   "mimetype": "text/x-python",
   "name": "python",
   "nbconvert_exporter": "python",
   "pygments_lexer": "ipython3",
   "version": "3.9.17"
  },
  "orig_nbformat": 4
 },
 "nbformat": 4,
 "nbformat_minor": 2
}
