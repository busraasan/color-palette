{
 "cells": [
  {
   "cell_type": "code",
   "execution_count": 2,
   "metadata": {},
   "outputs": [],
   "source": [
    "import cv2\n",
    "import torch\n",
    "import numpy as np\n",
    "from torchvision import transforms\n",
    "from torchvision.utils import save_image\n",
    "import xml.etree.ElementTree as ET\n",
    "from PIL import Image\n",
    "\n",
    "def VOC2bbox(xml_file: str):\n",
    "\n",
    "    tree = ET.parse(xml_file)\n",
    "    root = tree.getroot()\n",
    "\n",
    "    list_with_all_boxes = []\n",
    "\n",
    "    for boxes in root.iter('object'):\n",
    "\n",
    "        filename = root.find('filename').text\n",
    "\n",
    "        ymin, xmin, ymax, xmax = None, None, None, None\n",
    "\n",
    "        ymin = int(float(boxes.find(\"bndbox/ymin\").text))\n",
    "        xmin = int(float(boxes.find(\"bndbox/xmin\").text))\n",
    "        ymax = int(float(boxes.find(\"bndbox/ymax\").text))\n",
    "        xmax = int(float(boxes.find(\"bndbox/xmax\").text))\n",
    "\n",
    "        if(xmax-xmin) == 0 or (ymax-ymin) == 0:\n",
    "            continue\n",
    "        else:\n",
    "            list_with_single_boxes = [[xmin, ymin], [xmax, ymin], [xmax, ymax], [xmin, ymax]]\n",
    "            list_with_all_boxes.append(list_with_single_boxes)\n",
    "\n",
    "    return filename, list_with_all_boxes\n",
    "\n",
    "input_size = 256\n",
    "\n",
    "idx = \"0040\"\n",
    "root_dataset = \"../../destijl_dataset/\"\n",
    "design_path = root_dataset + '00_preview/'+idx+\".png\"\n",
    "image_xml = root_dataset + \"xmls/\" + '02_image/'+idx+\".xml\"\n",
    "text_xml = root_dataset + \"xmls/\" + '04_text/'+idx+\".xml\"\n",
    "xml_paths = [image_xml, text_xml]\n",
    "\n",
    "transform = transforms.Compose([\n",
    "    transforms.Resize((input_size, input_size)),\n",
    "    transforms.ToTensor(), \n",
    "    #transforms.Normalize((0.5,), (0.5,))\n",
    "    ])"
   ]
  },
  {
   "cell_type": "code",
   "execution_count": 5,
   "metadata": {},
   "outputs": [
    {
     "name": "stdout",
     "output_type": "stream",
     "text": [
      "torch.Size([3, 256, 256])\n",
      "torch.Size([3, 256, 256])\n",
      "torch.Size([3, 256, 256])\n",
      "torch.Size([3, 256, 256])\n",
      "torch.Size([3, 256, 256])\n",
      "torch.Size([3, 256, 256])\n",
      "torch.Size([3, 256, 256])\n"
     ]
    }
   ],
   "source": [
    "image = cv2.imread(design_path)\n",
    "image = cv2.cvtColor(image, cv2.COLOR_BGR2RGB)\n",
    "\n",
    "count = 0\n",
    "for i in range(2):\n",
    "    path = xml_paths[i]\n",
    "    bboxes = VOC2bbox(path)[1]\n",
    "    for bbox in bboxes:\n",
    "        x, y = int(bbox[0][0]), int(bbox[0][1])\n",
    "        z, t = int(bbox[2][0]), int(bbox[2][1])\n",
    "        cropped_image = Image.fromarray(image[y:t, x:z])\n",
    "        tensor = transform(cropped_image)\n",
    "        save_image(tensor, \"image_\"+ str(count)+\".png\")\n",
    "        count += 1\n"
   ]
  }
 ],
 "metadata": {
  "kernelspec": {
   "display_name": "color",
   "language": "python",
   "name": "python3"
  },
  "language_info": {
   "codemirror_mode": {
    "name": "ipython",
    "version": 3
   },
   "file_extension": ".py",
   "mimetype": "text/x-python",
   "name": "python",
   "nbconvert_exporter": "python",
   "pygments_lexer": "ipython3",
   "version": "3.9.17"
  },
  "orig_nbformat": 4
 },
 "nbformat": 4,
 "nbformat_minor": 2
}
